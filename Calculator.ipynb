{
 "cells": [
  {
   "cell_type": "code",
   "execution_count": 41,
   "metadata": {},
   "outputs": [
    {
     "name": "stdout",
     "output_type": "stream",
     "text": [
      "You started with $10.00 invested\n",
      "This is how much you have earned in Compound interest: $2.16\n",
      "Your total investment is now worth: $12.16\n",
      "Your money has lost purchasing power of : $8.71 over the course of 4 years\n",
      "Your dollar saved would be worth: 87% percent less\n",
      "Congrats thanks to investing you beat inflation!!\n"
     ]
    }
   ],
   "source": [
    "\n",
    "# Asking the user for a  principal amount,\n",
    "# The time they will let their investment grow\n",
    "#We will import functions for calculating the inflation   \n",
    "\n",
    "from scripts.Interest import interest\n",
    "from scripts.TotalAmt import All\n",
    "from scripts.Inflation import yearly_inf\n",
    "from scripts.Loss import percent\n",
    "\n",
    "principal = float(input('Enter the amount you want to start with: '))\n",
    "time = int(input('Enter the time you will leave it growing for in years: '))\n",
    "#The average return rate for the stock market is %8 based on the last 20 years\n",
    "rate = float(input('Enter the interest rate you would expect: '))\n",
    "\n",
    "\n",
    "Compound = interest(principal, time, rate)\n",
    "T = All(Compound,principal)\n",
    "Y = yearly_inf(principal,time)\n",
    "L = percent(Y, principal)\n",
    "\n",
    "\n",
    "\n",
    "#Average inflation rate in the last 20 years for the US has been about %3.5\n",
    "#We will also use this to compare how much purchasing power you have lost\n",
    "#Purchasing power means how much less your dollar is worth now \n",
    "\n",
    "\n",
    "# Displaying result\n",
    "print('You started with ' +  '${:,.2f}'.format(principal)\n",
    " + ' invested')\n",
    "print('This is how much you have earned in Compound interest: ' + '${:,.2f}'.format(Compound))\n",
    "print('Your total investment is now worth: ' + '${:,.2f}'.format(T))\n",
    "print('Your money has lost purchasing power of : ' + '${:,.2f}'.format(Y) + ' over the course of ' + str(time) + ' ' + 'years')\n",
    "print('Your dollar saved would be worth: ' + '{0:.0f}%'.format(L) + ' percent less')\n",
    "print('Congrats thanks to investing you beat inflation!!')\n",
    "\n"
   ]
  }
 ],
 "metadata": {
  "interpreter": {
   "hash": "31f2aee4e71d21fbe5cf8b01ff0e069b9275f58929596ceb00d14d90e3e16cd6"
  },
  "kernelspec": {
   "display_name": "Python 3.7.3 64-bit",
   "name": "python3"
  },
  "language_info": {
   "codemirror_mode": {
    "name": "ipython",
    "version": 3
   },
   "file_extension": ".py",
   "mimetype": "text/x-python",
   "name": "python",
   "nbconvert_exporter": "python",
   "pygments_lexer": "ipython3",
   "version": "3.7.3"
  },
  "orig_nbformat": 4
 },
 "nbformat": 4,
 "nbformat_minor": 2
}
