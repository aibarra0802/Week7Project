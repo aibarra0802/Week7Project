{
 "cells": [
  {
   "cell_type": "code",
   "execution_count": 15,
   "metadata": {},
   "outputs": [
    {
     "ename": "ImportError",
     "evalue": "cannot import name 'percent' from 'scripts.Loss' (/Users/tkhstudent/Desktop/Week7Project/scripts/Loss.py)",
     "output_type": "error",
     "traceback": [
      "\u001b[0;31m---------------------------------------------------------------------------\u001b[0m",
      "\u001b[0;31mImportError\u001b[0m                               Traceback (most recent call last)",
      "\u001b[0;32m/var/folders/wd/s05wlnn97dnbmv2_tykv4krw0000gp/T/ipykernel_9494/397390786.py\u001b[0m in \u001b[0;36m<module>\u001b[0;34m\u001b[0m\n\u001b[1;32m      6\u001b[0m \u001b[0;32mfrom\u001b[0m \u001b[0mscripts\u001b[0m\u001b[0;34m.\u001b[0m\u001b[0mTotalAmt\u001b[0m \u001b[0;32mimport\u001b[0m \u001b[0mAll\u001b[0m\u001b[0;34m\u001b[0m\u001b[0;34m\u001b[0m\u001b[0m\n\u001b[1;32m      7\u001b[0m \u001b[0;32mfrom\u001b[0m \u001b[0mscripts\u001b[0m\u001b[0;34m.\u001b[0m\u001b[0mInflation\u001b[0m \u001b[0;32mimport\u001b[0m \u001b[0myearly_inf\u001b[0m\u001b[0;34m\u001b[0m\u001b[0;34m\u001b[0m\u001b[0m\n\u001b[0;32m----> 8\u001b[0;31m \u001b[0;32mfrom\u001b[0m \u001b[0mscripts\u001b[0m\u001b[0;34m.\u001b[0m\u001b[0mLoss\u001b[0m \u001b[0;32mimport\u001b[0m \u001b[0mpercent\u001b[0m\u001b[0;34m\u001b[0m\u001b[0;34m\u001b[0m\u001b[0m\n\u001b[0m\u001b[1;32m      9\u001b[0m \u001b[0;34m\u001b[0m\u001b[0m\n\u001b[1;32m     10\u001b[0m \u001b[0mprincipal\u001b[0m \u001b[0;34m=\u001b[0m \u001b[0mfloat\u001b[0m\u001b[0;34m(\u001b[0m\u001b[0minput\u001b[0m\u001b[0;34m(\u001b[0m\u001b[0;34m'Enter the amount you want to start with: '\u001b[0m\u001b[0;34m)\u001b[0m\u001b[0;34m)\u001b[0m\u001b[0;34m\u001b[0m\u001b[0;34m\u001b[0m\u001b[0m\n",
      "\u001b[0;31mImportError\u001b[0m: cannot import name 'percent' from 'scripts.Loss' (/Users/tkhstudent/Desktop/Week7Project/scripts/Loss.py)"
     ]
    }
   ],
   "source": [
    "\n",
    "# Asking the user for a  principal amount,\n",
    "# The time they will let their investment grow\n",
    "#We will import functions for calculation the inflation   \n",
    "\n",
    "from scripts.Interest import interest\n",
    "from scripts.TotalAmt import All\n",
    "from scripts.Inflation import yearly_inf\n",
    "from scripts.Loss import percent\n",
    "\n",
    "principal = float(input('Enter the amount you want to start with: '))\n",
    "time = float(input('Enter the time you will leave it growing for in years: '))\n",
    "#The average return rate for the stock market is %8 based on the last 20 years\n",
    "rate = float(input('Enter the interest rate you would expect: '))\n",
    "\n",
    "\n",
    "Compound = interest(principal, time, rate)\n",
    "T = All(Compound,principal)\n",
    "Y = yearly_inf(principal,time)\n",
    "L = percent(principal, time)\n",
    "\n",
    "\n",
    "\n",
    "\n",
    "\n",
    "#Average inflation rate in the last 20 years for the US has been about %3.5\n",
    "#We will also use this to compare how much purchasing power you have lost\n",
    "#Purchasing power means how much less your dollar is worth now\n",
    "\n",
    "\n",
    "# Displaying result\n",
    "print('This is how much you have earned in Compound interest: %f' % (Compound))\n",
    "print('Your total investment is now worth: %f' %  (T))\n",
    "print('Your money has lost purchasing power of : %f' % (Y) + ' over the course of ' + str(time) + ' ' + 'years')\n",
    "print('Your dollar is worth: %f' % (L) + 'percent less')\n",
    "\n"
   ]
  }
 ],
 "metadata": {
  "interpreter": {
   "hash": "31f2aee4e71d21fbe5cf8b01ff0e069b9275f58929596ceb00d14d90e3e16cd6"
  },
  "kernelspec": {
   "display_name": "Python 3.7.3 64-bit",
   "name": "python3"
  },
  "language_info": {
   "codemirror_mode": {
    "name": "ipython",
    "version": 3
   },
   "file_extension": ".py",
   "mimetype": "text/x-python",
   "name": "python",
   "nbconvert_exporter": "python",
   "pygments_lexer": "ipython3",
   "version": "3.7.3"
  },
  "orig_nbformat": 4
 },
 "nbformat": 4,
 "nbformat_minor": 2
}
